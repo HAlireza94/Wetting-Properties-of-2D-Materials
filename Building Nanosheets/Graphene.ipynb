{
 "cells": [
  {
   "cell_type": "code",
   "execution_count": 2,
   "id": "a749c4b7-7fa9-4d05-a31d-defcc76783d6",
   "metadata": {},
   "outputs": [],
   "source": [
    "import numpy as np\n",
    "import matplotlib.pyplot as plt\n",
    "from ase.build import graphene_nanoribbon\n",
    "import ase as ASE\n",
    "from lmfit import Model\n",
    "\n",
    "gnr2 = graphene_nanoribbon(72, 42, type='armchair', saturated=False,C_C=1.42, vacuum=3.0, sheet=True)\n",
    "ASE.io.write('graphene.gro',gnr2)"
   ]
  }
 ],
 "metadata": {
  "kernelspec": {
   "display_name": "Python 3 (ipykernel)",
   "language": "python",
   "name": "python3"
  },
  "language_info": {
   "codemirror_mode": {
    "name": "ipython",
    "version": 3
   },
   "file_extension": ".py",
   "mimetype": "text/x-python",
   "name": "python",
   "nbconvert_exporter": "python",
   "pygments_lexer": "ipython3",
   "version": "3.11.5"
  }
 },
 "nbformat": 4,
 "nbformat_minor": 5
}
